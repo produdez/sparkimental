{
 "cells": [
  {
   "cell_type": "markdown",
   "metadata": {},
   "source": [
    "# Reference\n",
    "`https://spark.apache.org/docs/latest/structured-streaming-programming-guide.html`"
   ]
  },
  {
   "cell_type": "code",
   "execution_count": 1,
   "metadata": {},
   "outputs": [
    {
     "data": {
      "text/plain": [
       "'/home/prod/spark-3.3.1-bin-hadoop3'"
      ]
     },
     "execution_count": 1,
     "metadata": {},
     "output_type": "execute_result"
    }
   ],
   "source": [
    "# Imports\n",
    "import findspark\n",
    "findspark.init()\n",
    "findspark.find()\n"
   ]
  },
  {
   "cell_type": "code",
   "execution_count": 2,
   "metadata": {},
   "outputs": [],
   "source": [
    "from pyspark import SparkConf\n",
    "conf = SparkConf()\n",
    "conf.setAppName('Jupyter Structured Stream PySpark')\n",
    "conf.setMaster('spark://spark-master:7077');"
   ]
  },
  {
   "cell_type": "code",
   "execution_count": 3,
   "metadata": {},
   "outputs": [
    {
     "name": "stderr",
     "output_type": "stream",
     "text": [
      "Setting default log level to \"WARN\".\n",
      "To adjust logging level use sc.setLogLevel(newLevel). For SparkR, use setLogLevel(newLevel).\n"
     ]
    },
    {
     "name": "stdout",
     "output_type": "stream",
     "text": [
      "22/11/08 14:32:48 WARN NativeCodeLoader: Unable to load native-hadoop library for your platform... using builtin-java classes where applicable\n",
      "Spark web UI link:  http://spark-master:4040\n"
     ]
    }
   ],
   "source": [
    "# Setup spark environment\n",
    "from pyspark import SparkContext\n",
    "from pyspark.sql.types import *\n",
    "from pprint import pprint, pformat\n",
    "sc = SparkContext.getOrCreate(conf)\n",
    "print('Spark web UI link: ', sc._jsc.sc().uiWebUrl().get())\n"
   ]
  },
  {
   "cell_type": "markdown",
   "metadata": {},
   "source": [
    "## Streaming"
   ]
  },
  {
   "cell_type": "code",
   "execution_count": 4,
   "metadata": {},
   "outputs": [],
   "source": [
    "from pyspark.sql import SparkSession\n",
    "spark = SparkSession(sc)"
   ]
  },
  {
   "cell_type": "code",
   "execution_count": 5,
   "metadata": {},
   "outputs": [
    {
     "name": "stdout",
     "output_type": "stream",
     "text": [
      "22/11/08 14:33:05 WARN TextSocketSourceProvider: The socket source should not be used for production applications! It does not support recovery.\n"
     ]
    }
   ],
   "source": [
    "from pyspark.sql.functions import explode\n",
    "from pyspark.sql.functions import split\n",
    "\n",
    "dStream = spark.readStream \\\n",
    "  .format(\"socket\")\\\n",
    "  .option(\"host\", \"spark-master\")\\\n",
    "  .option(\"port\", 9999)\\\n",
    "  .load()\n",
    "\n",
    "lines = dStream.select(\n",
    "  explode(\n",
    "    split(dStream.value, '\\n')\n",
    "  ).alias('text')\n",
    ")"
   ]
  },
  {
   "cell_type": "markdown",
   "metadata": {},
   "source": [
    "### Output Merging function"
   ]
  },
  {
   "cell_type": "code",
   "execution_count": 6,
   "metadata": {},
   "outputs": [
    {
     "name": "stdout",
     "output_type": "stream",
     "text": [
      "output path:  /home/prod/sparkimental/data/test-streaming-merged-output.csv\n",
      "[Errno 2] No such file or directory: '/home/prod/sparkimental/data/test-streaming-merged-output.csv'\n"
     ]
    }
   ],
   "source": [
    "import os\n",
    "\n",
    "out_file = '/data/test-streaming-merged-output.csv'\n",
    "cwd = os.getcwd()\n",
    "data_output_path = cwd + out_file\n",
    "print('output path: ', data_output_path)\n",
    "try:\n",
    "    os.remove(data_output_path)\n",
    "except Exception as e:\n",
    "    print(e)\n",
    "\n",
    "\n",
    "def mergeResult(batchDF, batchID):\n",
    "    print('batchSize: ', batchDF.count(), 'id: ', batchID)\n",
    "    batchDF.show()\n",
    "    masterDf = batchDF.toPandas().to_csv(data_output_path, mode='a', index=False, header=False)"
   ]
  },
  {
   "cell_type": "code",
   "execution_count": 7,
   "metadata": {},
   "outputs": [
    {
     "name": "stdout",
     "output_type": "stream",
     "text": [
      "22/11/08 14:33:10 WARN ResolveWriteToStream: Temporary checkpoint location created which is deleted normally when the query didn't fail: /tmp/temporary-532025ec-9c76-4900-b9e2-bd4b51267dc2. If it's required to delete it under any circumstances, please set spark.sql.streaming.forceDeleteTempCheckpointLocation to true. Important to know deleting temp checkpoint folder is best effort.\n",
      "22/11/08 14:33:10 WARN ResolveWriteToStream: spark.sql.adaptive.enabled is not supported in streaming DataFrames/Datasets and will be disabled.\n"
     ]
    },
    {
     "name": "stderr",
     "output_type": "stream",
     "text": [
      "                                                                                \r"
     ]
    },
    {
     "name": "stdout",
     "output_type": "stream",
     "text": [
      "batchSize:  0 id:  0\n",
      "+----+\n",
      "|text|\n",
      "+----+\n",
      "+----+\n",
      "\n",
      "batchSize:  35 id:  1\n",
      "+--------------------+\n",
      "|                text|\n",
      "+--------------------+\n",
      "|Animal Crossing; ...|\n",
      "|With a game this ...|\n",
      "|Above all else, A...|\n",
      "|Nintendo's comfor...|\n",
      "|Animal Crossing: ...|\n",
      "|Animal Crossing: ...|\n",
      "|Animal Crossing: ...|\n",
      "|Animal Crossing: ...|\n",
      "|Animal Crossing: ...|\n",
      "|I always knew Ani...|\n",
      "|Animal Crossing: ...|\n",
      "|The amazing, rela...|\n",
      "|Animal Crossing: ...|\n",
      "|New Horizons has ...|\n",
      "|Animal Crossing: ...|\n",
      "|Nintendo Switch g...|\n",
      "|Animal Crossing i...|\n",
      "|Animal Crossing f...|\n",
      "|Know that if you’...|\n",
      "|Animal Crossing: ...|\n",
      "+--------------------+\n",
      "only showing top 20 rows\n",
      "\n",
      "batchSize:  7 id:  2\n",
      "+--------------------+\n",
      "|                text|\n",
      "+--------------------+\n",
      "|Animal Crossing: ...|\n",
      "|Animal Crossing N...|\n",
      "|Animal Crossing r...|\n",
      "|Animal Crossing: ...|\n",
      "|There continues t...|\n",
      "|Under the illusio...|\n",
      "|The series has ma...|\n",
      "+--------------------+\n",
      "\n",
      "batchSize:  4 id:  3\n",
      "+--------------------+\n",
      "|                text|\n",
      "+--------------------+\n",
      "|Based on what I h...|\n",
      "|Animal Crossing d...|\n",
      "|Animal Crossing: ...|\n",
      "|Nintendo's island...|\n",
      "+--------------------+\n",
      "\n",
      "batchSize:  5 id:  4\n",
      "+--------------------+\n",
      "|                text|\n",
      "+--------------------+\n",
      "|It’s a blissfully...|\n",
      "|In case of Animal...|\n",
      "|As in the past ga...|\n",
      "|While New Horizon...|\n",
      "|New Horizons is p...|\n",
      "+--------------------+\n",
      "\n",
      "batchSize:  5 id:  5\n",
      "+--------------------+\n",
      "|                text|\n",
      "+--------------------+\n",
      "|Animal Crossing: ...|\n",
      "|Animal Crossing: ...|\n",
      "|Animal Crossing N...|\n",
      "|Playing New Horiz...|\n",
      "|Animal Crossing: ...|\n",
      "+--------------------+\n",
      "\n",
      "batchSize:  4 id:  6\n",
      "+--------------------+\n",
      "|                text|\n",
      "+--------------------+\n",
      "|Animal Crossing: ...|\n",
      "|Animal Crossing: ...|\n",
      "|Animal Crossing N...|\n",
      "|Thanks to new cus...|\n",
      "+--------------------+\n",
      "\n",
      "batchSize:  4 id:  7\n",
      "+--------------------+\n",
      "|                text|\n",
      "+--------------------+\n",
      "|There’s no arguin...|\n",
      "|New Horizons is a...|\n",
      "|There has never b...|\n",
      "|We all need games...|\n",
      "+--------------------+\n",
      "\n",
      "batchSize:  5 id:  8\n",
      "+--------------------+\n",
      "|                text|\n",
      "+--------------------+\n",
      "|To play New Horiz...|\n",
      "|Quotation forthco...|\n",
      "|A perfect entry-p...|\n",
      "|Animal Crossing: ...|\n",
      "|Time apart can be...|\n",
      "+--------------------+\n",
      "\n",
      "batchSize:  3 id:  9\n",
      "+--------------------+\n",
      "|                text|\n",
      "+--------------------+\n",
      "|With an addictive...|\n",
      "|Animal Crossing: ...|\n",
      "|This latest Anima...|\n",
      "+--------------------+\n",
      "\n",
      "batchSize:  5 id:  10\n",
      "+--------------------+\n",
      "|                text|\n",
      "+--------------------+\n",
      "|Sometimes, playin...|\n",
      "|New Horizons is t...|\n",
      "|Animal Crossing: ...|\n",
      "|Animal Crossing: ...|\n",
      "|Animal Crossing: ...|\n",
      "+--------------------+\n",
      "\n",
      "batchSize:  4 id:  11\n",
      "+--------------------+\n",
      "|                text|\n",
      "+--------------------+\n",
      "|If you’ve never p...|\n",
      "|If Animal Crossin...|\n",
      "|Being able to pla...|\n",
      "|“New Horizons mak...|\n",
      "+--------------------+\n",
      "\n",
      "batchSize:  4 id:  12\n",
      "+--------------------+\n",
      "|                text|\n",
      "+--------------------+\n",
      "|Animal Crossing: ...|\n",
      "|Animal Crossing: ...|\n",
      "|New Horizons has ...|\n",
      "|New Horizons is t...|\n",
      "+--------------------+\n",
      "\n",
      "batchSize:  3 id:  13\n",
      "+--------------------+\n",
      "|                text|\n",
      "+--------------------+\n",
      "|Animal Crossing: ...|\n",
      "|While Animal Cros...|\n",
      "|New Horizons draw...|\n",
      "+--------------------+\n",
      "\n",
      "batchSize:  3 id:  14\n",
      "+--------------------+\n",
      "|                text|\n",
      "+--------------------+\n",
      "|Initially we were...|\n",
      "|The latest Animal...|\n",
      "|Despite early fru...|\n",
      "+--------------------+\n",
      "\n",
      "batchSize:  3 id:  15\n",
      "+--------------------+\n",
      "|                text|\n",
      "+--------------------+\n",
      "|This is by far th...|\n",
      "|Two weeks worth o...|\n",
      "|It's an exception...|\n",
      "+--------------------+\n",
      "\n",
      "batchSize:  3 id:  16\n",
      "+--------------------+\n",
      "|                text|\n",
      "+--------------------+\n",
      "|New Horizons alwa...|\n",
      "|Animal Crossing N...|\n",
      "|With additions li...|\n",
      "+--------------------+\n",
      "\n",
      "batchSize:  3 id:  17\n",
      "+--------------------+\n",
      "|                text|\n",
      "+--------------------+\n",
      "|Animal Crossing: ...|\n",
      "|As much as I love...|\n",
      "|New Horizons is a...|\n",
      "+--------------------+\n",
      "\n",
      "batchSize:  3 id:  18\n",
      "+--------------------+\n",
      "|                text|\n",
      "+--------------------+\n",
      "|By consolidating ...|\n",
      "|Animal Crossing N...|\n",
      "|Animal Crossing h...|\n",
      "+--------------------+\n",
      "\n",
      "batchSize:  2 id:  19\n",
      "+--------------------+\n",
      "|                text|\n",
      "+--------------------+\n",
      "|Animal Crossing: ...|\n",
      "|New Horizons is s...|\n",
      "+--------------------+\n",
      "\n",
      "batchSize:  2 id:  20\n",
      "+--------------------+\n",
      "|                text|\n",
      "+--------------------+\n",
      "|I can't wait to s...|\n",
      "|Animal Crossing: ...|\n",
      "+--------------------+\n",
      "\n",
      "Stopping query...\n",
      "Awaiting termination...\n"
     ]
    }
   ],
   "source": [
    "from time import sleep\n",
    "import time\n",
    "\n",
    "query = lines \\\n",
    "    .writeStream \\\n",
    "    .outputMode(\"append\") \\\n",
    "    .format(\"console\") \\\n",
    "    .queryName('test-stream-query') \\\n",
    "    .foreachBatch(mergeResult) \\\n",
    "    .start()\n",
    "\n",
    "\n",
    "def stop_stream_query(query, wait_time):\n",
    "    \"\"\"Stop a running streaming query\"\"\"\n",
    "    while query.isActive:\n",
    "        msg = query.status['message']\n",
    "        data_avail = query.status['isDataAvailable']\n",
    "        trigger_active = query.status['isTriggerActive']\n",
    "        if not data_avail and not trigger_active and msg != \"Initializing StreamExecution\":\n",
    "            print('Stopping query...')\n",
    "            query.stop()\n",
    "        time.sleep(0.5)\n",
    "\n",
    "    # Okay wait for the stop to happen\n",
    "    print('Awaiting termination...')\n",
    "    query.awaitTermination(wait_time)\n",
    "\n",
    "stop_stream_query(query, 5000)\n"
   ]
  },
  {
   "cell_type": "code",
   "execution_count": 8,
   "metadata": {},
   "outputs": [],
   "source": [
    "import pandas as pd\n",
    "\n",
    "df_merged = pd.read_csv('.'+out_file, header=None)\n",
    "df_init = pd.read_csv('./data/animal-crossing.csv')\n"
   ]
  },
  {
   "cell_type": "code",
   "execution_count": 9,
   "metadata": {},
   "outputs": [
    {
     "name": "stdout",
     "output_type": "stream",
     "text": [
      "(107, 1) (107, 4)\n",
      "Valid stream?  True\n",
      "22/11/08 14:41:43 ERROR TaskSchedulerImpl: Lost executor 0 on 192.168.56.111: Remote RPC client disassociated. Likely due to containers exceeding thresholds, or network issues. Check driver logs for WARN messages.\n",
      "22/11/08 14:41:45 ERROR StandaloneSchedulerBackend: Application has been killed. Reason: Master removed our application: KILLED\n",
      "22/11/08 14:41:45 ERROR Inbox: Ignoring error\n",
      "org.apache.spark.SparkException: Exiting due to error from cluster scheduler: Master removed our application: KILLED\n",
      "\tat org.apache.spark.errors.SparkCoreErrors$.clusterSchedulerError(SparkCoreErrors.scala:218)\n",
      "\tat org.apache.spark.scheduler.TaskSchedulerImpl.error(TaskSchedulerImpl.scala:923)\n",
      "\tat org.apache.spark.scheduler.cluster.StandaloneSchedulerBackend.dead(StandaloneSchedulerBackend.scala:154)\n",
      "\tat org.apache.spark.deploy.client.StandaloneAppClient$ClientEndpoint.markDead(StandaloneAppClient.scala:262)\n",
      "\tat org.apache.spark.deploy.client.StandaloneAppClient$ClientEndpoint$$anonfun$receive$1.applyOrElse(StandaloneAppClient.scala:169)\n",
      "\tat org.apache.spark.rpc.netty.Inbox.$anonfun$process$1(Inbox.scala:115)\n",
      "\tat org.apache.spark.rpc.netty.Inbox.safelyCall(Inbox.scala:213)\n",
      "\tat org.apache.spark.rpc.netty.Inbox.process(Inbox.scala:100)\n",
      "\tat org.apache.spark.rpc.netty.MessageLoop.org$apache$spark$rpc$netty$MessageLoop$$receiveLoop(MessageLoop.scala:75)\n",
      "\tat org.apache.spark.rpc.netty.MessageLoop$$anon$1.run(MessageLoop.scala:41)\n",
      "\tat java.base/java.util.concurrent.ThreadPoolExecutor.runWorker(ThreadPoolExecutor.java:1128)\n",
      "\tat java.base/java.util.concurrent.ThreadPoolExecutor$Worker.run(ThreadPoolExecutor.java:628)\n",
      "\tat java.base/java.lang.Thread.run(Thread.java:829)\n"
     ]
    }
   ],
   "source": [
    "print(df_merged.shape, df_init.shape)\n",
    "print('Valid stream? ', df_merged.shape[0] == df_init.shape[0])"
   ]
  }
 ],
 "metadata": {
  "kernelspec": {
   "display_name": "sparkimental",
   "language": "python",
   "name": "sparkimental"
  },
  "language_info": {
   "codemirror_mode": {
    "name": "ipython",
    "version": 3
   },
   "file_extension": ".py",
   "mimetype": "text/x-python",
   "name": "python",
   "nbconvert_exporter": "python",
   "pygments_lexer": "ipython3",
   "version": "3.10.6"
  },
  "vscode": {
   "interpreter": {
    "hash": "e4315361361e5693679a33b7caab5ef4ac71969d7d5a82cbcec4fbfd006b2427"
   }
  }
 },
 "nbformat": 4,
 "nbformat_minor": 2
}

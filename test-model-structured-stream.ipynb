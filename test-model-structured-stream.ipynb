{
 "cells": [
  {
   "cell_type": "markdown",
   "metadata": {},
   "source": [
    "# Reference\n",
    "`https://spark.apache.org/docs/latest/streaming-programming-guide.html`"
   ]
  },
  {
   "cell_type": "code",
   "execution_count": 1,
   "metadata": {},
   "outputs": [
    {
     "data": {
      "text/plain": [
       "'/home/prod/spark-3.3.1-bin-hadoop3'"
      ]
     },
     "execution_count": 1,
     "metadata": {},
     "output_type": "execute_result"
    }
   ],
   "source": [
    "# Imports\n",
    "import findspark\n",
    "findspark.init()\n",
    "findspark.find()\n"
   ]
  },
  {
   "cell_type": "code",
   "execution_count": 2,
   "metadata": {},
   "outputs": [],
   "source": [
    "from pyspark import SparkConf\n",
    "conf = SparkConf()\n",
    "conf.setAppName('Structured Streaming Model')\n",
    "conf.setMaster('spark://spark-master:7077');"
   ]
  },
  {
   "cell_type": "code",
   "execution_count": 3,
   "metadata": {},
   "outputs": [
    {
     "name": "stderr",
     "output_type": "stream",
     "text": [
      "Setting default log level to \"WARN\".\n",
      "To adjust logging level use sc.setLogLevel(newLevel). For SparkR, use setLogLevel(newLevel).\n"
     ]
    },
    {
     "name": "stdout",
     "output_type": "stream",
     "text": [
      "22/11/08 14:47:26 WARN NativeCodeLoader: Unable to load native-hadoop library for your platform... using builtin-java classes where applicable\n",
      "Spark web UI link:  http://spark-master:4040\n"
     ]
    }
   ],
   "source": [
    "# Setup spark environment\n",
    "from pyspark import SparkContext\n",
    "from pyspark.sql.types import *\n",
    "from pprint import pprint, pformat\n",
    "sc = SparkContext.getOrCreate(conf)\n",
    "print('Spark web UI link: ', sc._jsc.sc().uiWebUrl().get())\n"
   ]
  },
  {
   "cell_type": "markdown",
   "metadata": {},
   "source": [
    "## Streaming"
   ]
  },
  {
   "cell_type": "code",
   "execution_count": 4,
   "metadata": {},
   "outputs": [],
   "source": [
    "from pyspark.sql import SparkSession\n",
    "spark = SparkSession(sc)"
   ]
  },
  {
   "cell_type": "code",
   "execution_count": 5,
   "metadata": {
    "scrolled": true
   },
   "outputs": [
    {
     "name": "stdout",
     "output_type": "stream",
     "text": [
      "22/11/08 14:47:40 WARN TextSocketSourceProvider: The socket source should not be used for production applications! It does not support recovery.\n"
     ]
    }
   ],
   "source": [
    "from pyspark.sql.functions import explode\n",
    "from pyspark.sql.functions import split\n",
    "\n",
    "dStream = spark.readStream \\\n",
    "  .format(\"socket\")\\\n",
    "  .option(\"host\", \"spark-master\")\\\n",
    "  .option(\"port\", 9999)\\\n",
    "  .load()\n",
    "\n",
    "lines = dStream.select(\n",
    "  explode(\n",
    "    split(dStream.value, '\\n')\n",
    "  ).alias('text')\n",
    ")\n",
    "\n"
   ]
  },
  {
   "cell_type": "markdown",
   "metadata": {},
   "source": [
    "### Model setup"
   ]
  },
  {
   "cell_type": "code",
   "execution_count": 6,
   "metadata": {},
   "outputs": [
    {
     "name": "stderr",
     "output_type": "stream",
     "text": [
      "                                                                                \r"
     ]
    }
   ],
   "source": [
    "# Unpickle, pkl file\n",
    "model_rdd_pkl = sc.binaryFiles(\"./models/SentimentIntensityAnalyzer.pkl\")\n",
    "model_rdd_data = model_rdd_pkl.collect()"
   ]
  },
  {
   "cell_type": "code",
   "execution_count": 7,
   "metadata": {},
   "outputs": [
    {
     "name": "stdout",
     "output_type": "stream",
     "text": [
      "<nltk.sentiment.vader.SentimentIntensityAnalyzer object at 0x7f2dfebfd990>\n"
     ]
    }
   ],
   "source": [
    "# Load and broadcast python object over spark nodes\n",
    "import pickle\n",
    "\n",
    "_model = pickle.loads(model_rdd_data[0][1]) # local\n",
    "model = sc.broadcast(_model) # broadcasted\n",
    "print(model.value)"
   ]
  },
  {
   "cell_type": "code",
   "execution_count": 8,
   "metadata": {},
   "outputs": [],
   "source": [
    "from pyspark.sql.functions import udf\n",
    "\n",
    "def predict(text):\n",
    "    prediction = model.value.polarity_scores(text)['compound']\n",
    "    return float(prediction)\n",
    "\n",
    "predict_udf = udf(predict, DoubleType())\n"
   ]
  },
  {
   "cell_type": "markdown",
   "metadata": {},
   "source": [
    "### Output Merging function"
   ]
  },
  {
   "cell_type": "code",
   "execution_count": 12,
   "metadata": {},
   "outputs": [
    {
     "name": "stdout",
     "output_type": "stream",
     "text": [
      "output path:  /home/prod/sparkimental/data/model-output.csv\n",
      "[Errno 2] No such file or directory: '/home/prod/sparkimental/data/model-output.csv'\n"
     ]
    }
   ],
   "source": [
    "import os\n",
    "\n",
    "out_file = '/data/model-output.csv'\n",
    "cwd = os.getcwd()\n",
    "data_output_path = cwd + out_file\n",
    "print('output path: ', data_output_path)\n",
    "try:\n",
    "    os.remove(data_output_path)\n",
    "except Exception as e:\n",
    "    print(e)\n",
    "\n",
    "\n",
    "def mergeResult(batchDF, batchID):\n",
    "    print('batchSize: ', batchDF.count(), 'id: ', batchID)\n",
    "    batchDF.show()\n",
    "    masterDf = batchDF.toPandas().to_csv(data_output_path, mode='a', index=False, header=False)"
   ]
  },
  {
   "cell_type": "markdown",
   "metadata": {},
   "source": [
    "## Predict on the stream query"
   ]
  },
  {
   "cell_type": "code",
   "execution_count": 13,
   "metadata": {},
   "outputs": [],
   "source": [
    "from pyspark.sql.functions import col\n",
    "df = lines.select(\n",
    "    col('text'),\n",
    "    predict_udf(col('text')).alias('score')\n",
    ")\n"
   ]
  },
  {
   "cell_type": "markdown",
   "metadata": {},
   "source": [
    "## Start Stream Query"
   ]
  },
  {
   "cell_type": "code",
   "execution_count": 14,
   "metadata": {},
   "outputs": [
    {
     "name": "stdout",
     "output_type": "stream",
     "text": [
      "22/11/08 14:49:17 WARN ResolveWriteToStream: Temporary checkpoint location created which is deleted normally when the query didn't fail: /tmp/temporary-71778d2f-3ab4-4dc0-b169-6b6da85beeb0. If it's required to delete it under any circumstances, please set spark.sql.streaming.forceDeleteTempCheckpointLocation to true. Important to know deleting temp checkpoint folder is best effort.\n",
      "22/11/08 14:49:17 WARN ResolveWriteToStream: spark.sql.adaptive.enabled is not supported in streaming DataFrames/Datasets and will be disabled.\n",
      "batchSize:  0 id:  0\n",
      "+----+-----+\n",
      "|text|score|\n",
      "+----+-----+\n",
      "+----+-----+\n",
      "\n"
     ]
    },
    {
     "name": "stderr",
     "output_type": "stream",
     "text": [
      "                                                                                \r"
     ]
    },
    {
     "name": "stdout",
     "output_type": "stream",
     "text": [
      "batchSize:  11 id:  1\n",
      "+--------------------+-------+\n",
      "|                text|  score|\n",
      "+--------------------+-------+\n",
      "|Animal Crossing; ...| 0.6605|\n",
      "|With a game this ...| 0.9769|\n",
      "|Above all else, A...| 0.9628|\n",
      "|Nintendo's comfor...| 0.4404|\n",
      "|Animal Crossing: ...| 0.9929|\n",
      "|Animal Crossing: ...| 0.6908|\n",
      "|Know that if you’...|-0.2023|\n",
      "|Animal Crossing: ...| 0.9423|\n",
      "|Animal Crossing: ...| 0.9042|\n",
      "|A beautiful, welc...| 0.8591|\n",
      "|Similar to how Br...| 0.8807|\n",
      "+--------------------+-------+\n",
      "\n",
      "batchSize:  26 id:  2\n",
      "+--------------------+-------+\n",
      "|                text|  score|\n",
      "+--------------------+-------+\n",
      "|New Horizons is t...| 0.8271|\n",
      "|If you've never p...| 0.9463|\n",
      "|Animal Crossing: ...| 0.8834|\n",
      "|Animal Crossing: ...| 0.9525|\n",
      "|Start from scratc...| 0.9403|\n",
      "|With fully custom...| 0.9424|\n",
      "|Animal Crossing N...| 0.8316|\n",
      "|The fresh thrill ...| 0.8735|\n",
      "|Animal Crossing: ...| 0.9329|\n",
      "|Animal Crossing N...|-8.0E-4|\n",
      "|Animal Crossing: ...| 0.9659|\n",
      "|Animal Crossing: ...| 0.2263|\n",
      "|Animal Crossing: ...| 0.9366|\n",
      "|Animal Crossing: ...| 0.8316|\n",
      "|Animal Crossing: ...| 0.9584|\n",
      "|Animal Crossing: ...| 0.3818|\n",
      "|I always knew Ani...| 0.8376|\n",
      "|Animal Crossing: ...| 0.5606|\n",
      "|The amazing, rela...| 0.9756|\n",
      "|Animal Crossing: ...| 0.9707|\n",
      "+--------------------+-------+\n",
      "only showing top 20 rows\n",
      "\n"
     ]
    },
    {
     "name": "stderr",
     "output_type": "stream",
     "text": [
      "\r",
      "[Stage 22:>                                                         (0 + 1) / 1]\r"
     ]
    },
    {
     "name": "stdout",
     "output_type": "stream",
     "text": [
      "batchSize:  7 id:  3\n"
     ]
    },
    {
     "name": "stderr",
     "output_type": "stream",
     "text": [
      "\r",
      "                                                                                \r"
     ]
    },
    {
     "name": "stdout",
     "output_type": "stream",
     "text": [
      "+--------------------+------+\n",
      "|                text| score|\n",
      "+--------------------+------+\n",
      "|Animal Crossing N...|0.7783|\n",
      "|Animal Crossing r...|0.8225|\n",
      "|Animal Crossing: ...|0.2144|\n",
      "|Animal Crossing: ...|0.8316|\n",
      "|Under the illusio...|0.9001|\n",
      "|The series has ma...| 0.841|\n",
      "|Based on what I h...|   0.0|\n",
      "+--------------------+------+\n",
      "\n",
      "batchSize:  10 id:  4\n",
      "+--------------------+------+\n",
      "|                text| score|\n",
      "+--------------------+------+\n",
      "|Animal Crossing d...|   0.0|\n",
      "|It’s a blissfully...|0.8779|\n",
      "|In case of Animal...|0.9538|\n",
      "|As in the past ga...|0.9578|\n",
      "|Playing New Horiz...|0.9699|\n",
      "|Nintendo's island...|0.7677|\n",
      "|While New Horizon...|0.7769|\n",
      "|New Horizons is p...|0.3716|\n",
      "|Animal Crossing: ...| 0.541|\n",
      "|Animal Crossing: ...| 0.872|\n",
      "+--------------------+------+\n",
      "\n",
      "batchSize:  7 id:  5\n",
      "+--------------------+------+\n",
      "|                text| score|\n",
      "+--------------------+------+\n",
      "|Animal Crossing: ...|0.8402|\n",
      "|Animal Crossing: ...|0.9673|\n",
      "|Animal Crossing: ...|0.8832|\n",
      "|There’s no arguin...|0.2023|\n",
      "|Animal Crossing N...|0.9834|\n",
      "|Animal Crossing N...|0.2593|\n",
      "|Thanks to new cus...|0.9022|\n",
      "+--------------------+------+\n",
      "\n",
      "batchSize:  6 id:  6\n",
      "+--------------------+------+\n",
      "|                text| score|\n",
      "+--------------------+------+\n",
      "|There has never b...|0.9678|\n",
      "|We all need games...|0.9524|\n",
      "|Animal Crossing: ...|0.8979|\n",
      "|New Horizons is a...|0.7852|\n",
      "|To play New Horiz...|0.7351|\n",
      "|Quotation forthco...|   0.0|\n",
      "+--------------------+------+\n",
      "\n",
      "batchSize:  8 id:  7\n",
      "+--------------------+------+\n",
      "|                text| score|\n",
      "+--------------------+------+\n",
      "|Time apart can be...| 0.765|\n",
      "|With an addictive...|0.9529|\n",
      "|Animal Crossing: ...|0.9422|\n",
      "|Animal Crossing: ...|0.8402|\n",
      "|A perfect entry-p...|0.8779|\n",
      "|This latest Anima...|0.9571|\n",
      "|Sometimes, playin...|0.8925|\n",
      "|New Horizons is t...| 0.765|\n",
      "+--------------------+------+\n",
      "\n",
      "batchSize:  7 id:  8\n",
      "+--------------------+-------+\n",
      "|                text|  score|\n",
      "+--------------------+-------+\n",
      "|Animal Crossing: ...| 0.7783|\n",
      "|If you’ve never p...| 0.3536|\n",
      "|If Animal Crossin...| 0.8834|\n",
      "|Animal Crossing: ...|-0.1464|\n",
      "|Animal Crossing: ...| 0.9753|\n",
      "|Being able to pla...| 0.8555|\n",
      "|“New Horizons mak...| 0.6369|\n",
      "+--------------------+-------+\n",
      "\n",
      "batchSize:  4 id:  9\n",
      "+--------------------+------+\n",
      "|                text| score|\n",
      "+--------------------+------+\n",
      "|New Horizons has ...|0.9895|\n",
      "|New Horizons is t...|0.8807|\n",
      "|Animal Crossing: ...|0.9509|\n",
      "|Animal Crossing: ...|0.5106|\n",
      "+--------------------+------+\n",
      "\n",
      "batchSize:  5 id:  10\n",
      "+--------------------+-------+\n",
      "|                text|  score|\n",
      "+--------------------+-------+\n",
      "|New Horizons draw...| 0.9127|\n",
      "|Initially we were...|-0.8521|\n",
      "|The latest Animal...| 0.9074|\n",
      "|While Animal Cros...| 0.9269|\n",
      "|Despite early fru...|  0.943|\n",
      "+--------------------+-------+\n",
      "\n",
      "batchSize:  5 id:  11\n",
      "+--------------------+-------+\n",
      "|                text|  score|\n",
      "+--------------------+-------+\n",
      "|This is by far th...| 0.4939|\n",
      "|Two weeks worth o...| 0.9871|\n",
      "|With additions li...| 0.5346|\n",
      "|It's an exception...|-0.0258|\n",
      "|New Horizons alwa...| 0.6249|\n",
      "+--------------------+-------+\n",
      "\n",
      "batchSize:  4 id:  12\n",
      "+--------------------+------+\n",
      "|                text| score|\n",
      "+--------------------+------+\n",
      "|Animal Crossing N...| -0.25|\n",
      "|New Horizons is a...|0.9176|\n",
      "|Animal Crossing: ...|0.8126|\n",
      "|As much as I love...|0.9128|\n",
      "+--------------------+------+\n",
      "\n",
      "batchSize:  5 id:  13\n",
      "+--------------------+-------+\n",
      "|                text|  score|\n",
      "+--------------------+-------+\n",
      "|By consolidating ...|-0.1531|\n",
      "|Animal Crossing N...| 0.7163|\n",
      "|New Horizons is s...| 0.9062|\n",
      "|Animal Crossing h...| 0.9932|\n",
      "|Animal Crossing: ...| 0.3182|\n",
      "+--------------------+-------+\n",
      "\n",
      "batchSize:  2 id:  14\n",
      "+--------------------+-----+\n",
      "|                text|score|\n",
      "+--------------------+-----+\n",
      "|I can't wait to s...|  0.0|\n",
      "|Animal Crossing: ...|  0.0|\n",
      "+--------------------+-----+\n",
      "\n",
      "Stopping query...\n",
      "Awaiting termination...\n"
     ]
    }
   ],
   "source": [
    "from time import sleep\n",
    "import time\n",
    "\n",
    "query = df \\\n",
    "    .writeStream \\\n",
    "    .outputMode(\"append\") \\\n",
    "    .format(\"console\") \\\n",
    "    .queryName('stream-model-query') \\\n",
    "    .foreachBatch(mergeResult) \\\n",
    "    .start()\n",
    "\n",
    "\n",
    "def stop_stream_query(query, wait_time):\n",
    "    \"\"\"Stop a running streaming query\"\"\"\n",
    "    while query.isActive:\n",
    "        msg = query.status['message']\n",
    "        data_avail = query.status['isDataAvailable']\n",
    "        trigger_active = query.status['isTriggerActive']\n",
    "        if not data_avail and not trigger_active and msg != \"Initializing StreamExecution\":\n",
    "            print('Stopping query...')\n",
    "            query.stop()\n",
    "        time.sleep(0.5)\n",
    "\n",
    "    # Okay wait for the stop to happen\n",
    "    print('Awaiting termination...')\n",
    "    query.awaitTermination(wait_time)\n",
    "\n",
    "stop_stream_query(query, 5000)"
   ]
  },
  {
   "cell_type": "code",
   "execution_count": 15,
   "metadata": {},
   "outputs": [],
   "source": [
    "import pandas as pd\n",
    "\n",
    "df_merged = pd.read_csv('.'+out_file, header = None)\n",
    "df_init = pd.read_csv('./data/animal-crossing.csv')"
   ]
  },
  {
   "cell_type": "code",
   "execution_count": 16,
   "metadata": {},
   "outputs": [
    {
     "name": "stdout",
     "output_type": "stream",
     "text": [
      "(107, 2) (107, 4)\n",
      "Valid stream?  True\n"
     ]
    }
   ],
   "source": [
    "# df_merged\n",
    "print(df_merged.shape, df_init.shape)\n",
    "print('Valid stream? ', df_merged.shape[0] == df_init.shape[0])"
   ]
  },
  {
   "cell_type": "code",
   "execution_count": 22,
   "metadata": {},
   "outputs": [
    {
     "data": {
      "text/html": [
       "<div>\n",
       "<style scoped>\n",
       "    .dataframe tbody tr th:only-of-type {\n",
       "        vertical-align: middle;\n",
       "    }\n",
       "\n",
       "    .dataframe tbody tr th {\n",
       "        vertical-align: top;\n",
       "    }\n",
       "\n",
       "    .dataframe thead th {\n",
       "        text-align: right;\n",
       "    }\n",
       "</style>\n",
       "<table border=\"1\" class=\"dataframe\">\n",
       "  <thead>\n",
       "    <tr style=\"text-align: right;\">\n",
       "      <th></th>\n",
       "      <th>text</th>\n",
       "      <th>score</th>\n",
       "    </tr>\n",
       "  </thead>\n",
       "  <tbody>\n",
       "    <tr>\n",
       "      <th>0</th>\n",
       "      <td>Animal Crossing; New Horizons, much like its p...</td>\n",
       "      <td>0.6605</td>\n",
       "    </tr>\n",
       "    <tr>\n",
       "      <th>1</th>\n",
       "      <td>With a game this broad and lengthy, there’s mo...</td>\n",
       "      <td>0.9769</td>\n",
       "    </tr>\n",
       "    <tr>\n",
       "      <th>2</th>\n",
       "      <td>Above all else, Animal Crossing: New Horizons ...</td>\n",
       "      <td>0.9628</td>\n",
       "    </tr>\n",
       "    <tr>\n",
       "      <th>3</th>\n",
       "      <td>Nintendo's comforting life sim is a tranquil h...</td>\n",
       "      <td>0.4404</td>\n",
       "    </tr>\n",
       "    <tr>\n",
       "      <th>4</th>\n",
       "      <td>Animal Crossing: New Horizons takes Animal Cro...</td>\n",
       "      <td>0.9929</td>\n",
       "    </tr>\n",
       "  </tbody>\n",
       "</table>\n",
       "</div>"
      ],
      "text/plain": [
       "                                                text   score\n",
       "0  Animal Crossing; New Horizons, much like its p...  0.6605\n",
       "1  With a game this broad and lengthy, there’s mo...  0.9769\n",
       "2  Above all else, Animal Crossing: New Horizons ...  0.9628\n",
       "3  Nintendo's comforting life sim is a tranquil h...  0.4404\n",
       "4  Animal Crossing: New Horizons takes Animal Cro...  0.9929"
      ]
     },
     "execution_count": 22,
     "metadata": {},
     "output_type": "execute_result"
    }
   ],
   "source": [
    "df_final = df_merged.rename(columns={0: 'text', 1: 'score'})\n",
    "df_final.head()"
   ]
  },
  {
   "cell_type": "code",
   "execution_count": 24,
   "metadata": {},
   "outputs": [],
   "source": [
    "df_final.to_csv(data_output_path, mode='w', index=False)"
   ]
  }
 ],
 "metadata": {
  "kernelspec": {
   "display_name": "sparkimental",
   "language": "python",
   "name": "sparkimental"
  },
  "language_info": {
   "codemirror_mode": {
    "name": "ipython",
    "version": 3
   },
   "file_extension": ".py",
   "mimetype": "text/x-python",
   "name": "python",
   "nbconvert_exporter": "python",
   "pygments_lexer": "ipython3",
   "version": "3.10.6"
  },
  "vscode": {
   "interpreter": {
    "hash": "31f2aee4e71d21fbe5cf8b01ff0e069b9275f58929596ceb00d14d90e3e16cd6"
   }
  }
 },
 "nbformat": 4,
 "nbformat_minor": 2
}

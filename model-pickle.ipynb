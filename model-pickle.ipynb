{
 "cells": [
  {
   "cell_type": "code",
   "execution_count": 104,
   "metadata": {},
   "outputs": [],
   "source": [
    "from sklearn.linear_model import LinearRegression\n",
    "import pandas as pd\n",
    "import numpy as np\n",
    "import seaborn as sns\n",
    "\n",
    "np.random.seed(0)"
   ]
  },
  {
   "cell_type": "code",
   "execution_count": 120,
   "metadata": {},
   "outputs": [
    {
     "name": "stdout",
     "output_type": "stream",
     "text": [
      "Index(['grade', 'publication', 'text', 'date'], dtype='object')\n"
     ]
    },
    {
     "data": {
      "text/plain": [
       "<AxesSubplot:xlabel='grade', ylabel='count'>"
      ]
     },
     "execution_count": 120,
     "metadata": {},
     "output_type": "execute_result"
    },
    {
     "data": {
      "image/png": "[encoded data removed]",
      "text/plain": [
       "<Figure size 640x480 with 1 Axes>"
      ]
     },
     "metadata": {},
     "output_type": "display_data"
    }
   ],
   "source": [
    "# load data\n",
    "\n",
    "df = pd.read_csv('./data/animal-crossing.csv')\n",
    "print(df.columns)\n",
    "sns.countplot(df, x='grade')"
   ]
  },
  {
   "cell_type": "code",
   "execution_count": 149,
   "metadata": {},
   "outputs": [
    {
     "name": "stdout",
     "output_type": "stream",
     "text": [
      "Model name:  SentimentIntensityAnalyzer\n"
     ]
    },
    {
     "name": "stderr",
     "output_type": "stream",
     "text": [
      "[nltk_data] Downloading package vader_lexicon to\n",
      "[nltk_data]     C:\\Users\\USER\\AppData\\Roaming\\nltk_data...\n",
      "[nltk_data]   Package vader_lexicon is already up-to-date!\n"
     ]
    }
   ],
   "source": [
    "import nltk\n",
    "nltk.download('vader_lexicon')\n",
    "from nltk.sentiment.vader import SentimentIntensityAnalyzer\n",
    "\n",
    "\n",
    "model = SentimentIntensityAnalyzer() # https://medium.com/@b.terryjack/nlp-pre-trained-sentiment-analysis-1eb52a9d742c\n",
    "model_name = type(model).__name__\n",
    "print('Model name: ', model_name)"
   ]
  },
  {
   "cell_type": "code",
   "execution_count": 150,
   "metadata": {},
   "outputs": [
    {
     "name": "stdout",
     "output_type": "stream",
     "text": [
      "example review:  Animal Crossing; New Horizons, much like its predecessors, operates outside of the boundaries of most games. While the most tension you'll ever feel is while sprinting away from wasps, there's a warmth and comfort in the code which you won't find almost anywhere else.\n",
      "review grade:  100\n",
      "{'neg': 0.052, 'neu': 0.786, 'pos': 0.161, 'compound': 0.6605}\n"
     ]
    }
   ],
   "source": [
    "print('example review: ', df.text[0])\n",
    "print('review grade: ', df.grade[0])\n",
    "print(model.polarity_scores(df.text[0]))"
   ]
  },
  {
   "cell_type": "code",
   "execution_count": 151,
   "metadata": {},
   "outputs": [
    {
     "name": "stdout",
     "output_type": "stream",
     "text": [
      "---------------------------------\n",
      "input:  New Horizons is the near-perfect installment ahead of the 20th anniversary of the series. There is so much to do in this game, and Nintendo has really pushed the limits for the series with the amount of creative freedom they’ve handed over to the player. The only thing that lets it down is the clunkiness of an otherwise delightful multiplayer feature. Still, this is exactly the kind of game I want to be stuck at home with.\n",
      "user grade:  90\n",
      "sentimental score:  0.8807\n",
      "---------------------------------\n",
      "input:  Animal Crossing: New Horizons takes everything good about Animal Crossing and improves it ten-fold.\n",
      "user grade:  100\n",
      "sentimental score:  0.6908\n",
      "---------------------------------\n",
      "input:  Animal Crossing: New Horizons is yet another title that you can clearly see Nintendo's mark on it. It aims only to entertain, and it succeeds. If you are looking to distant yourself from all the violence and adrenaline that most games on the market are offering right now, then this is a perfect match for you.\n",
      "user grade:  90\n",
      "sentimental score:  0.7783\n",
      "---------------------------------\n",
      "input:  With a game this broad and lengthy, there’s more to discuss than I could fit in one review, but suffice it to say, this a game that Nintendo have clearly worked incredibly hard to get right. It shines at every moment, from the wind rustling through the trees, to the sunset glinting off the water to the jaunty tunes at the start of the day fading into more relaxing melodies in the evening. Add dozens of much needed quality of life features (hello player customisation, autosave, couch co-op, and eight-player online play) and it all adds up to the perfect DIY recipe for the most chilled out, relaxing, and engaging life simulator ever.\n",
      "user grade:  100\n",
      "sentimental score:  0.9769\n",
      "---------------------------------\n",
      "input:  Animal Crossing: New Horizons is the best entry of the series so far, but it is not the ultimate Animal Crossing yet. There are some minor flaws, but nothing really noticeable. Its quality of life details, the daily routine of grabbing some fruit, chatting to your neighbors or looking for surprises, plus the very new mechanics are so delightful that we can only say good things about one of the most rewarding Nintendo experiences yet.\n",
      "user grade:  90\n",
      "sentimental score:  0.9707\n"
     ]
    }
   ],
   "source": [
    "sample = df.sample(5, random_state=0)\n",
    "for i, comment in enumerate(sample.text):\n",
    "    print('---------------------------------')\n",
    "    print('input: ', comment)\n",
    "    print('user grade: ', sample.iloc[i].grade)\n",
    "    print('sentimental score: ',model.polarity_scores(comment)['compound'])\n"
   ]
  },
  {
   "cell_type": "code",
   "execution_count": 152,
   "metadata": {},
   "outputs": [],
   "source": [
    "import pickle\n",
    "pickle_out = open(f\"./models/{model_name}.pkl\", \"wb\")\n",
    "pickle.dump(model, pickle_out)\n",
    "pickle_out.close()"
   ]
  }
 ],
 "metadata": {
  "kernelspec": {
   "display_name": "sparkimental",
   "language": "python",
   "name": "python3"
  },
  "language_info": {
   "codemirror_mode": {
    "name": "ipython",
    "version": 3
   },
   "file_extension": ".py",
   "mimetype": "text/x-python",
   "name": "python",
   "nbconvert_exporter": "python",
   "pygments_lexer": "ipython3",
   "version": "3.10.6 | packaged by conda-forge | (main, Oct 24 2022, 16:02:16) [MSC v.1916 64 bit (AMD64)]"
  },
  "orig_nbformat": 4,
  "vscode": {
   "interpreter": {
    "hash": "e4315361361e5693679a33b7caab5ef4ac71969d7d5a82cbcec4fbfd006b2427"
   }
  }
 },
 "nbformat": 4,
 "nbformat_minor": 2
}
